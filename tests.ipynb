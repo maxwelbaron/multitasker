{
 "cells": [
  {
   "cell_type": "code",
   "execution_count": 2,
   "metadata": {},
   "outputs": [],
   "source": [
    "%load_ext autoreload\n",
    "%reload_ext autoreload\n",
    "%autoreload 2\n",
    "\n",
    "import jax,numpy as np,jax.numpy as jnp\n",
    "import pandas,os\n",
    "import transformer\n",
    "from data_manager import DataManager\n",
    "import jax_nnets\n",
    "from LSTM import LSTM\n",
    "jax.config.update(\"jax_debug_nans\", True)"
   ]
  },
  {
   "cell_type": "code",
   "execution_count": 4,
   "metadata": {},
   "outputs": [
    {
     "name": "stdout",
     "output_type": "stream",
     "text": [
      "['Amazon' 'Arlo' 'Eye']\n"
     ]
    }
   ],
   "source": [
    "dm = DataManager(features=\"debug\")\n",
    "(Xtr,Ttr),(Xval,Tval),(Xte,Tte),data_model = dm.get_data()"
   ]
  },
  {
   "cell_type": "code",
   "execution_count": 5,
   "metadata": {},
   "outputs": [],
   "source": [
    "model = LSTM(data_model,model_dim=10,n_hiddens=[10],dec_dropout=0)\n"
   ]
  },
  {
   "cell_type": "code",
   "execution_count": 47,
   "metadata": {},
   "outputs": [
    {
     "name": "stdout",
     "output_type": "stream",
     "text": [
      "\t\tepoch 0, train error=0.3241956830024719 val error=0.32267236709594727\n",
      "\t\t\tnew best: 0.32267236709594727\n",
      "\t\tepoch 1, train error=0.2889379858970642 val error=0.28829318284988403\n",
      "\t\t\tnew best: 0.28829318284988403\n",
      "\t\tepoch 2, train error=0.26208165287971497 val error=0.2614491581916809\n",
      "\t\t\tnew best: 0.2614491581916809\n",
      "\t\tepoch 3, train error=0.23873652517795563 val error=0.23814085125923157\n",
      "\t\t\tnew best: 0.23814085125923157\n",
      "\t\tepoch 4, train error=0.22133857011795044 val error=0.22092299163341522\n",
      "\t\t\tnew best: 0.22092299163341522\n",
      "\t\tepoch 5, train error=0.20849497616291046 val error=0.20824402570724487\n",
      "\t\t\tnew best: 0.20824402570724487\n",
      "\t\tepoch 6, train error=0.2184160053730011 val error=0.20665746927261353\n",
      "\t\t\tnew best: 0.20665746927261353\n",
      "\t\tepoch 7, train error=0.1887618452310562 val error=0.1883993297815323\n",
      "\t\t\tnew best: 0.1883993297815323\n",
      "\t\tepoch 8, train error=0.18100623786449432 val error=0.18052348494529724\n",
      "\t\t\tnew best: 0.18052348494529724\n",
      "\t\tepoch 9, train error=0.17462383210659027 val error=0.1778152585029602\n",
      "\t\t\tnew best: 0.1778152585029602\n",
      "\t\tepoch 10, train error=0.21987386047840118 val error=0.20867116749286652\n",
      "\t\tepoch 11, train error=0.2612209916114807 val error=0.26866310834884644\n",
      "\t\tepoch 12, train error=0.2586456835269928 val error=0.26901543140411377\n",
      "\t\tepoch 13, train error=0.23688127100467682 val error=0.24306994676589966\n",
      "\t\tepoch 14, train error=0.20284929871559143 val error=0.20543210208415985\n",
      "\t\tepoch 15, train error=0.17059765756130219 val error=0.17015273869037628\n",
      "\t\t\tnew best: 0.17015273869037628\n",
      "\t\tepoch 16, train error=0.17237505316734314 val error=0.17190596461296082\n",
      "\t\tepoch 17, train error=0.170485720038414 val error=0.16993172466754913\n",
      "\t\t\tnew best: 0.16993172466754913\n",
      "\t\tepoch 18, train error=0.1657220721244812 val error=0.16503624618053436\n",
      "\t\t\tnew best: 0.16503624618053436\n",
      "\t\tepoch 19, train error=0.15866459906101227 val error=0.15777145326137543\n",
      "\t\t\tnew best: 0.15777145326137543\n"
     ]
    },
    {
     "data": {
      "text/plain": [
       "<class 'LSTM.LSTM'>\n",
       "  embedding: ((400,))\n",
       "  lstm: ((983,))"
      ]
     },
     "execution_count": 47,
     "metadata": {},
     "output_type": "execute_result"
    }
   ],
   "source": [
    "model.train(Xtr,Ttr,Xval,Tval,n_epochs=20)"
   ]
  },
  {
   "cell_type": "code",
   "execution_count": 35,
   "metadata": {},
   "outputs": [
    {
     "data": {
      "text/plain": [
       "0.31884057971014496"
      ]
     },
     "execution_count": 35,
     "metadata": {},
     "output_type": "execute_result"
    }
   ],
   "source": [
    "model.evaluate(Xte,Tte)"
   ]
  },
  {
   "cell_type": "code",
   "execution_count": 74,
   "metadata": {},
   "outputs": [],
   "source": [
    "model = transformer.ClozeTransformer(data_model,attention_blocks=2,depth=5,model_dim=10,heads_per_block=2,n_hiddens=[10])"
   ]
  },
  {
   "cell_type": "code",
   "execution_count": 75,
   "metadata": {},
   "outputs": [
    {
     "name": "stdout",
     "output_type": "stream",
     "text": [
      "\t\tepoch 0, train error=11.226339340209961 val error=11.267271995544434\n",
      "\t\t\tnew best: 11.267271995544434\n",
      "\t\tepoch 1, train error=11.635648727416992 val error=11.215776443481445\n",
      "\t\t\tnew best: 11.215776443481445\n",
      "\t\tepoch 2, train error=11.134676933288574 val error=10.726946830749512\n",
      "\t\t\tnew best: 10.726946830749512\n",
      "\t\tepoch 3, train error=10.814263343811035 val error=10.44857120513916\n",
      "\t\t\tnew best: 10.44857120513916\n",
      "\t\tepoch 4, train error=10.31478500366211 val error=10.312657356262207\n",
      "\t\t\tnew best: 10.312657356262207\n",
      "\t\tepoch 5, train error=10.455278396606445 val error=10.250056266784668\n",
      "\t\t\tnew best: 10.250056266784668\n",
      "\t\tepoch 6, train error=10.37265396118164 val error=10.21261978149414\n",
      "\t\t\tnew best: 10.21261978149414\n",
      "\t\tepoch 7, train error=9.856953620910645 val error=10.462976455688477\n",
      "\t\tepoch 8, train error=9.8591947555542 val error=9.180303573608398\n",
      "\t\t\tnew best: 9.180303573608398\n",
      "\t\tepoch 9, train error=9.891541481018066 val error=10.190389633178711\n"
     ]
    },
    {
     "data": {
      "text/plain": [
       "<class 'transformer.ClozeTransformer'>\n",
       "  encoder: ({'embedding': '(400,)', 'encoder': '(1320,)'})\n",
       "  decoder: ((506,))"
      ]
     },
     "execution_count": 75,
     "metadata": {},
     "output_type": "execute_result"
    }
   ],
   "source": [
    "model.train(Xtr,Xtr,Xval,Xval,n_epochs=10)"
   ]
  },
  {
   "cell_type": "code",
   "execution_count": 2,
   "metadata": {},
   "outputs": [],
   "source": [
    "a = np.arange(100).reshape((5,2,10))"
   ]
  },
  {
   "cell_type": "code",
   "execution_count": 4,
   "metadata": {},
   "outputs": [
    {
     "data": {
      "text/plain": [
       "(5, 10)"
      ]
     },
     "execution_count": 4,
     "metadata": {},
     "output_type": "execute_result"
    }
   ],
   "source": [
    "a.mean(axis=1).shape"
   ]
  }
 ],
 "metadata": {
  "kernelspec": {
   "display_name": "Python 3",
   "language": "python",
   "name": "python3"
  },
  "language_info": {
   "codemirror_mode": {
    "name": "ipython",
    "version": 3
   },
   "file_extension": ".py",
   "mimetype": "text/x-python",
   "name": "python",
   "nbconvert_exporter": "python",
   "pygments_lexer": "ipython3",
   "version": "3.11.4"
  }
 },
 "nbformat": 4,
 "nbformat_minor": 2
}
