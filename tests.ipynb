{
 "cells": [
  {
   "cell_type": "code",
   "execution_count": 2,
   "metadata": {},
   "outputs": [],
   "source": [
    "%load_ext autoreload\n",
    "%reload_ext autoreload\n",
    "%autoreload 2\n",
    "\n",
    "import jax,numpy as np,jax.numpy as jnp\n",
    "import pandas,os\n",
    "import transformer\n",
    "from data_manager import DataManager\n",
    "import jax_nnets\n",
    "from LSTM import LSTM\n",
    "jax.config.update(\"jax_debug_nans\", True)"
   ]
  },
  {
   "cell_type": "code",
   "execution_count": 3,
   "metadata": {},
   "outputs": [
    {
     "data": {
      "text/html": [
       "<div>\n",
       "<style scoped>\n",
       "    .dataframe tbody tr th:only-of-type {\n",
       "        vertical-align: middle;\n",
       "    }\n",
       "\n",
       "    .dataframe tbody tr th {\n",
       "        vertical-align: top;\n",
       "    }\n",
       "\n",
       "    .dataframe thead th {\n",
       "        text-align: right;\n",
       "    }\n",
       "</style>\n",
       "<table border=\"1\" class=\"dataframe\">\n",
       "  <thead>\n",
       "    <tr style=\"text-align: right;\">\n",
       "      <th></th>\n",
       "      <th>recall</th>\n",
       "      <th>accuracy</th>\n",
       "      <th>train_recall</th>\n",
       "      <th>time(s)</th>\n",
       "      <th>size(KB)</th>\n",
       "      <th>epochs</th>\n",
       "      <th>data(KB)</th>\n",
       "      <th>adaptive_rate</th>\n",
       "      <th>reset_checkpoint</th>\n",
       "      <th>learning_rate</th>\n",
       "      <th>n_batches</th>\n",
       "      <th>lr_decay_factor</th>\n",
       "      <th>lr_early_exit</th>\n",
       "      <th>n_epochs</th>\n",
       "      <th>n_lstm_layers</th>\n",
       "      <th>dec_hiddens</th>\n",
       "      <th>model_dim</th>\n",
       "      <th>dec_dropout</th>\n",
       "    </tr>\n",
       "  </thead>\n",
       "  <tbody>\n",
       "    <tr>\n",
       "      <th>0</th>\n",
       "      <td>0.956085</td>\n",
       "      <td>0.981246</td>\n",
       "      <td>0.959790</td>\n",
       "      <td>3440.868180</td>\n",
       "      <td>181.976</td>\n",
       "      <td>1205.666667</td>\n",
       "      <td>1422715.392</td>\n",
       "      <td>15</td>\n",
       "      <td>False</td>\n",
       "      <td>0.01</td>\n",
       "      <td>1</td>\n",
       "      <td>3</td>\n",
       "      <td>0.00001</td>\n",
       "      <td>3000</td>\n",
       "      <td>1</td>\n",
       "      <td>[80]</td>\n",
       "      <td>40</td>\n",
       "      <td>0.0</td>\n",
       "    </tr>\n",
       "    <tr>\n",
       "      <th>1</th>\n",
       "      <td>0.931992</td>\n",
       "      <td>0.966944</td>\n",
       "      <td>0.934741</td>\n",
       "      <td>1007.948224</td>\n",
       "      <td>181.976</td>\n",
       "      <td>332.333333</td>\n",
       "      <td>1422715.392</td>\n",
       "      <td>15</td>\n",
       "      <td>False</td>\n",
       "      <td>0.01</td>\n",
       "      <td>1</td>\n",
       "      <td>3</td>\n",
       "      <td>0.00001</td>\n",
       "      <td>3000</td>\n",
       "      <td>1</td>\n",
       "      <td>[80]</td>\n",
       "      <td>40</td>\n",
       "      <td>0.1</td>\n",
       "    </tr>\n",
       "    <tr>\n",
       "      <th>2</th>\n",
       "      <td>0.954929</td>\n",
       "      <td>0.981790</td>\n",
       "      <td>0.959948</td>\n",
       "      <td>1026.230786</td>\n",
       "      <td>550.616</td>\n",
       "      <td>285.000000</td>\n",
       "      <td>1422715.392</td>\n",
       "      <td>15</td>\n",
       "      <td>False</td>\n",
       "      <td>0.01</td>\n",
       "      <td>1</td>\n",
       "      <td>3</td>\n",
       "      <td>0.00001</td>\n",
       "      <td>3000</td>\n",
       "      <td>1</td>\n",
       "      <td>[80]</td>\n",
       "      <td>80</td>\n",
       "      <td>0.0</td>\n",
       "    </tr>\n",
       "    <tr>\n",
       "      <th>3</th>\n",
       "      <td>0.983441</td>\n",
       "      <td>0.993089</td>\n",
       "      <td>0.987940</td>\n",
       "      <td>2265.902026</td>\n",
       "      <td>550.616</td>\n",
       "      <td>613.000000</td>\n",
       "      <td>1422715.392</td>\n",
       "      <td>15</td>\n",
       "      <td>False</td>\n",
       "      <td>0.01</td>\n",
       "      <td>1</td>\n",
       "      <td>3</td>\n",
       "      <td>0.00001</td>\n",
       "      <td>3000</td>\n",
       "      <td>1</td>\n",
       "      <td>[80]</td>\n",
       "      <td>80</td>\n",
       "      <td>0.1</td>\n",
       "    </tr>\n",
       "    <tr>\n",
       "      <th>4</th>\n",
       "      <td>0.924281</td>\n",
       "      <td>0.963230</td>\n",
       "      <td>0.927794</td>\n",
       "      <td>1380.374021</td>\n",
       "      <td>160.216</td>\n",
       "      <td>480.333333</td>\n",
       "      <td>1422715.392</td>\n",
       "      <td>15</td>\n",
       "      <td>False</td>\n",
       "      <td>0.01</td>\n",
       "      <td>1</td>\n",
       "      <td>3</td>\n",
       "      <td>0.00001</td>\n",
       "      <td>3000</td>\n",
       "      <td>1</td>\n",
       "      <td>[40]</td>\n",
       "      <td>40</td>\n",
       "      <td>0.0</td>\n",
       "    </tr>\n",
       "    <tr>\n",
       "      <th>5</th>\n",
       "      <td>0.917165</td>\n",
       "      <td>0.963955</td>\n",
       "      <td>0.919546</td>\n",
       "      <td>1118.938544</td>\n",
       "      <td>160.216</td>\n",
       "      <td>373.000000</td>\n",
       "      <td>1422715.392</td>\n",
       "      <td>15</td>\n",
       "      <td>False</td>\n",
       "      <td>0.01</td>\n",
       "      <td>1</td>\n",
       "      <td>3</td>\n",
       "      <td>0.00001</td>\n",
       "      <td>3000</td>\n",
       "      <td>1</td>\n",
       "      <td>[40]</td>\n",
       "      <td>40</td>\n",
       "      <td>0.1</td>\n",
       "    </tr>\n",
       "    <tr>\n",
       "      <th>6</th>\n",
       "      <td>0.955281</td>\n",
       "      <td>0.982323</td>\n",
       "      <td>0.958007</td>\n",
       "      <td>823.568280</td>\n",
       "      <td>516.056</td>\n",
       "      <td>227.666667</td>\n",
       "      <td>1422715.392</td>\n",
       "      <td>15</td>\n",
       "      <td>False</td>\n",
       "      <td>0.01</td>\n",
       "      <td>1</td>\n",
       "      <td>3</td>\n",
       "      <td>0.00001</td>\n",
       "      <td>3000</td>\n",
       "      <td>1</td>\n",
       "      <td>[40]</td>\n",
       "      <td>80</td>\n",
       "      <td>0.0</td>\n",
       "    </tr>\n",
       "  </tbody>\n",
       "</table>\n",
       "</div>"
      ],
      "text/plain": [
       "     recall  accuracy  train_recall      time(s)  size(KB)       epochs  \\\n",
       "0  0.956085  0.981246      0.959790  3440.868180   181.976  1205.666667   \n",
       "1  0.931992  0.966944      0.934741  1007.948224   181.976   332.333333   \n",
       "2  0.954929  0.981790      0.959948  1026.230786   550.616   285.000000   \n",
       "3  0.983441  0.993089      0.987940  2265.902026   550.616   613.000000   \n",
       "4  0.924281  0.963230      0.927794  1380.374021   160.216   480.333333   \n",
       "5  0.917165  0.963955      0.919546  1118.938544   160.216   373.000000   \n",
       "6  0.955281  0.982323      0.958007   823.568280   516.056   227.666667   \n",
       "\n",
       "      data(KB)  adaptive_rate  reset_checkpoint  learning_rate  n_batches  \\\n",
       "0  1422715.392             15             False           0.01          1   \n",
       "1  1422715.392             15             False           0.01          1   \n",
       "2  1422715.392             15             False           0.01          1   \n",
       "3  1422715.392             15             False           0.01          1   \n",
       "4  1422715.392             15             False           0.01          1   \n",
       "5  1422715.392             15             False           0.01          1   \n",
       "6  1422715.392             15             False           0.01          1   \n",
       "\n",
       "   lr_decay_factor  lr_early_exit  n_epochs  n_lstm_layers dec_hiddens  \\\n",
       "0                3        0.00001      3000              1        [80]   \n",
       "1                3        0.00001      3000              1        [80]   \n",
       "2                3        0.00001      3000              1        [80]   \n",
       "3                3        0.00001      3000              1        [80]   \n",
       "4                3        0.00001      3000              1        [40]   \n",
       "5                3        0.00001      3000              1        [40]   \n",
       "6                3        0.00001      3000              1        [40]   \n",
       "\n",
       "   model_dim  dec_dropout  \n",
       "0         40          0.0  \n",
       "1         40          0.1  \n",
       "2         80          0.0  \n",
       "3         80          0.1  \n",
       "4         40          0.0  \n",
       "5         40          0.1  \n",
       "6         80          0.0  "
      ]
     },
     "execution_count": 3,
     "metadata": {},
     "output_type": "execute_result"
    }
   ],
   "source": [
    "import pandas\n",
    "pandas.read_csv(\"./results/IoT_all_gridsearch_LSTM.csv\")"
   ]
  },
  {
   "cell_type": "code",
   "execution_count": 4,
   "metadata": {},
   "outputs": [
    {
     "name": "stdout",
     "output_type": "stream",
     "text": [
      "['Amazon' 'Arlo' 'Eye']\n"
     ]
    }
   ],
   "source": [
    "dm = DataManager(features=\"debug\")\n",
    "(Xtr,Ttr),(Xval,Tval),(Xte,Tte),data_model = dm.get_data()"
   ]
  },
  {
   "cell_type": "code",
   "execution_count": 5,
   "metadata": {},
   "outputs": [],
   "source": [
    "model = LSTM(data_model,model_dim=10,n_hiddens=[10],dec_dropout=0)\n"
   ]
  },
  {
   "cell_type": "code",
   "execution_count": 47,
   "metadata": {},
   "outputs": [
    {
     "name": "stdout",
     "output_type": "stream",
     "text": [
      "\t\tepoch 0, train error=0.3241956830024719 val error=0.32267236709594727\n",
      "\t\t\tnew best: 0.32267236709594727\n",
      "\t\tepoch 1, train error=0.2889379858970642 val error=0.28829318284988403\n",
      "\t\t\tnew best: 0.28829318284988403\n",
      "\t\tepoch 2, train error=0.26208165287971497 val error=0.2614491581916809\n",
      "\t\t\tnew best: 0.2614491581916809\n",
      "\t\tepoch 3, train error=0.23873652517795563 val error=0.23814085125923157\n",
      "\t\t\tnew best: 0.23814085125923157\n",
      "\t\tepoch 4, train error=0.22133857011795044 val error=0.22092299163341522\n",
      "\t\t\tnew best: 0.22092299163341522\n",
      "\t\tepoch 5, train error=0.20849497616291046 val error=0.20824402570724487\n",
      "\t\t\tnew best: 0.20824402570724487\n",
      "\t\tepoch 6, train error=0.2184160053730011 val error=0.20665746927261353\n",
      "\t\t\tnew best: 0.20665746927261353\n",
      "\t\tepoch 7, train error=0.1887618452310562 val error=0.1883993297815323\n",
      "\t\t\tnew best: 0.1883993297815323\n",
      "\t\tepoch 8, train error=0.18100623786449432 val error=0.18052348494529724\n",
      "\t\t\tnew best: 0.18052348494529724\n",
      "\t\tepoch 9, train error=0.17462383210659027 val error=0.1778152585029602\n",
      "\t\t\tnew best: 0.1778152585029602\n",
      "\t\tepoch 10, train error=0.21987386047840118 val error=0.20867116749286652\n",
      "\t\tepoch 11, train error=0.2612209916114807 val error=0.26866310834884644\n",
      "\t\tepoch 12, train error=0.2586456835269928 val error=0.26901543140411377\n",
      "\t\tepoch 13, train error=0.23688127100467682 val error=0.24306994676589966\n",
      "\t\tepoch 14, train error=0.20284929871559143 val error=0.20543210208415985\n",
      "\t\tepoch 15, train error=0.17059765756130219 val error=0.17015273869037628\n",
      "\t\t\tnew best: 0.17015273869037628\n",
      "\t\tepoch 16, train error=0.17237505316734314 val error=0.17190596461296082\n",
      "\t\tepoch 17, train error=0.170485720038414 val error=0.16993172466754913\n",
      "\t\t\tnew best: 0.16993172466754913\n",
      "\t\tepoch 18, train error=0.1657220721244812 val error=0.16503624618053436\n",
      "\t\t\tnew best: 0.16503624618053436\n",
      "\t\tepoch 19, train error=0.15866459906101227 val error=0.15777145326137543\n",
      "\t\t\tnew best: 0.15777145326137543\n"
     ]
    },
    {
     "data": {
      "text/plain": [
       "<class 'LSTM.LSTM'>\n",
       "  embedding: ((400,))\n",
       "  lstm: ((983,))"
      ]
     },
     "execution_count": 47,
     "metadata": {},
     "output_type": "execute_result"
    }
   ],
   "source": [
    "model.train(Xtr,Ttr,Xval,Tval,n_epochs=20)"
   ]
  },
  {
   "cell_type": "code",
   "execution_count": 35,
   "metadata": {},
   "outputs": [
    {
     "data": {
      "text/plain": [
       "0.31884057971014496"
      ]
     },
     "execution_count": 35,
     "metadata": {},
     "output_type": "execute_result"
    }
   ],
   "source": [
    "model.evaluate(Xte,Tte)"
   ]
  },
  {
   "cell_type": "code",
   "execution_count": 74,
   "metadata": {},
   "outputs": [],
   "source": [
    "model = transformer.ClozeTransformer(data_model,attention_blocks=2,depth=5,model_dim=10,heads_per_block=2,n_hiddens=[10])"
   ]
  },
  {
   "cell_type": "code",
   "execution_count": 75,
   "metadata": {},
   "outputs": [
    {
     "name": "stdout",
     "output_type": "stream",
     "text": [
      "\t\tepoch 0, train error=11.226339340209961 val error=11.267271995544434\n",
      "\t\t\tnew best: 11.267271995544434\n",
      "\t\tepoch 1, train error=11.635648727416992 val error=11.215776443481445\n",
      "\t\t\tnew best: 11.215776443481445\n",
      "\t\tepoch 2, train error=11.134676933288574 val error=10.726946830749512\n",
      "\t\t\tnew best: 10.726946830749512\n",
      "\t\tepoch 3, train error=10.814263343811035 val error=10.44857120513916\n",
      "\t\t\tnew best: 10.44857120513916\n",
      "\t\tepoch 4, train error=10.31478500366211 val error=10.312657356262207\n",
      "\t\t\tnew best: 10.312657356262207\n",
      "\t\tepoch 5, train error=10.455278396606445 val error=10.250056266784668\n",
      "\t\t\tnew best: 10.250056266784668\n",
      "\t\tepoch 6, train error=10.37265396118164 val error=10.21261978149414\n",
      "\t\t\tnew best: 10.21261978149414\n",
      "\t\tepoch 7, train error=9.856953620910645 val error=10.462976455688477\n",
      "\t\tepoch 8, train error=9.8591947555542 val error=9.180303573608398\n",
      "\t\t\tnew best: 9.180303573608398\n",
      "\t\tepoch 9, train error=9.891541481018066 val error=10.190389633178711\n"
     ]
    },
    {
     "data": {
      "text/plain": [
       "<class 'transformer.ClozeTransformer'>\n",
       "  encoder: ({'embedding': '(400,)', 'encoder': '(1320,)'})\n",
       "  decoder: ((506,))"
      ]
     },
     "execution_count": 75,
     "metadata": {},
     "output_type": "execute_result"
    }
   ],
   "source": [
    "model.train(Xtr,Xtr,Xval,Xval,n_epochs=10)"
   ]
  },
  {
   "cell_type": "code",
   "execution_count": 2,
   "metadata": {},
   "outputs": [],
   "source": [
    "a = np.arange(100).reshape((5,2,10))"
   ]
  },
  {
   "cell_type": "code",
   "execution_count": 4,
   "metadata": {},
   "outputs": [
    {
     "data": {
      "text/plain": [
       "(5, 10)"
      ]
     },
     "execution_count": 4,
     "metadata": {},
     "output_type": "execute_result"
    }
   ],
   "source": [
    "a.mean(axis=1).shape"
   ]
  }
 ],
 "metadata": {
  "kernelspec": {
   "display_name": "Python 3",
   "language": "python",
   "name": "python3"
  },
  "language_info": {
   "codemirror_mode": {
    "name": "ipython",
    "version": 3
   },
   "file_extension": ".py",
   "mimetype": "text/x-python",
   "name": "python",
   "nbconvert_exporter": "python",
   "pygments_lexer": "ipython3",
   "version": "3.6.8"
  }
 },
 "nbformat": 4,
 "nbformat_minor": 2
}
